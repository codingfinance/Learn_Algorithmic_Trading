{
 "cells": [
  {
   "cell_type": "markdown",
   "metadata": {},
   "source": [
    "## First Algorithm"
   ]
  },
  {
   "cell_type": "markdown",
   "metadata": {},
   "source": [
    "In this algo we will \n",
    "\n",
    "- Download Google' stock price.\n",
    "- Calculate the daily price difference (from the previous trading day)\n",
    "- If the price difference is positive then, invest all the capital (100%) in Google\n",
    "- If the difference is negative then we sell the stock and convert 100% capital into cash\n"
   ]
  },
  {
   "cell_type": "markdown",
   "metadata": {},
   "source": [
    "First import our packages"
   ]
  },
  {
   "cell_type": "code",
   "execution_count": 8,
   "metadata": {},
   "outputs": [],
   "source": [
    "import pandas as pd\n",
    "import numpy as np\n",
    "\n",
    "from quantopian.pipeline import Pipeline\n",
    "from quantopian.research import run_pipeline\n",
    "from quantopian.pipeline.data import USEquityPricing\n",
    "from quantopian.pipeline.filters import Q500US, StaticAssets, StaticSids\n",
    "from quantopian.pipeline.factors import CustomFactor"
   ]
  },
  {
   "cell_type": "code",
   "execution_count": 9,
   "metadata": {},
   "outputs": [],
   "source": [
    "start_date = '2004-1-1'\n",
    "end_date = '2020-1-30'"
   ]
  },
  {
   "cell_type": "markdown",
   "metadata": {},
   "source": [
    "We will build a custom factor to calculate the difference between the daily price data."
   ]
  },
  {
   "cell_type": "code",
   "execution_count": 10,
   "metadata": {},
   "outputs": [],
   "source": [
    "class diff_2day(CustomFactor):\n",
    "    \n",
    "    def compute(self, today, assets, out, values):\n",
    "        \n",
    "        out[:] = np.diff(values, axis = 0)"
   ]
  },
  {
   "cell_type": "code",
   "execution_count": 11,
   "metadata": {},
   "outputs": [],
   "source": [
    "def make_pipeline():\n",
    "    \n",
    "    universe = StaticSids([26578])\n",
    "    \n",
    "    close = USEquityPricing.close.latest\n",
    "    \n",
    "    diff = diff_2day(\n",
    "        inputs = [USEquityPricing.close], \n",
    "                     window_length = 2,\n",
    "        mask = universe\n",
    "    )\n",
    "    \n",
    "    return Pipeline(\n",
    "    \n",
    "        columns = {\n",
    "            \n",
    "            'close':close,\n",
    "            'diff':diff\n",
    "        },screen = universe\n",
    "    )"
   ]
  },
  {
   "cell_type": "code",
   "execution_count": 12,
   "metadata": {
    "scrolled": false
   },
   "outputs": [
    {
     "data": {
      "application/vnd.jupyter.widget-view+json": {
       "model_id": "",
       "version_major": 2,
       "version_minor": 0
      },
      "text/plain": []
     },
     "metadata": {},
     "output_type": "display_data"
    },
    {
     "data": {
      "text/html": [
       "<b>Pipeline Execution Time:</b> 28.76 Seconds"
      ],
      "text/plain": [
       "<IPython.core.display.HTML object>"
      ]
     },
     "metadata": {},
     "output_type": "display_data"
    },
    {
     "data": {
      "text/html": [
       "<div>\n",
       "<table border=\"1\" class=\"dataframe\">\n",
       "  <thead>\n",
       "    <tr style=\"text-align: right;\">\n",
       "      <th></th>\n",
       "      <th></th>\n",
       "      <th>close</th>\n",
       "      <th>diff</th>\n",
       "    </tr>\n",
       "  </thead>\n",
       "  <tbody>\n",
       "    <tr>\n",
       "      <th>2004-08-20 00:00:00+00:00</th>\n",
       "      <th>Equity(26578 [GOOG_L])</th>\n",
       "      <td>100.37</td>\n",
       "      <td>NaN</td>\n",
       "    </tr>\n",
       "    <tr>\n",
       "      <th>2004-08-23 00:00:00+00:00</th>\n",
       "      <th>Equity(26578 [GOOG_L])</th>\n",
       "      <td>108.32</td>\n",
       "      <td>7.95</td>\n",
       "    </tr>\n",
       "    <tr>\n",
       "      <th>2004-08-24 00:00:00+00:00</th>\n",
       "      <th>Equity(26578 [GOOG_L])</th>\n",
       "      <td>109.49</td>\n",
       "      <td>1.17</td>\n",
       "    </tr>\n",
       "    <tr>\n",
       "      <th>2004-08-25 00:00:00+00:00</th>\n",
       "      <th>Equity(26578 [GOOG_L])</th>\n",
       "      <td>104.96</td>\n",
       "      <td>-4.53</td>\n",
       "    </tr>\n",
       "    <tr>\n",
       "      <th>2004-08-26 00:00:00+00:00</th>\n",
       "      <th>Equity(26578 [GOOG_L])</th>\n",
       "      <td>105.83</td>\n",
       "      <td>0.87</td>\n",
       "    </tr>\n",
       "  </tbody>\n",
       "</table>\n",
       "</div>"
      ],
      "text/plain": [
       "                                                   close  diff\n",
       "2004-08-20 00:00:00+00:00 Equity(26578 [GOOG_L])  100.37   NaN\n",
       "2004-08-23 00:00:00+00:00 Equity(26578 [GOOG_L])  108.32  7.95\n",
       "2004-08-24 00:00:00+00:00 Equity(26578 [GOOG_L])  109.49  1.17\n",
       "2004-08-25 00:00:00+00:00 Equity(26578 [GOOG_L])  104.96 -4.53\n",
       "2004-08-26 00:00:00+00:00 Equity(26578 [GOOG_L])  105.83  0.87"
      ]
     },
     "execution_count": 12,
     "metadata": {},
     "output_type": "execute_result"
    }
   ],
   "source": [
    "output = run_pipeline(make_pipeline(),\n",
    "                     start_date,\n",
    "                     end_date)\n",
    "\n",
    "output.head()"
   ]
  },
  {
   "cell_type": "markdown",
   "metadata": {},
   "source": [
    "#### Our Algo to be run in Quantopian's Algorithm\n",
    "\n",
    "\"\"\"\n",
    "This is a template for our algorithm Buying GOOGLE stock based on the signal.\n",
    "\"\"\"\n",
    "import quantopian.algorithm as algo\n",
    "import pandas as pd\n",
    "import numpy as np\n",
    "\n",
    "from quantopian.pipeline import Pipeline\n",
    "from quantopian.pipeline.data import USEquityPricing\n",
    "from quantopian.pipeline.filters import Q500US, StaticAssets, StaticSids\n",
    "from quantopian.pipeline.factors import CustomFactor\n",
    "\n",
    "set_slippage(slippage.FixedSlippage(spread = 0))\n",
    "\n",
    "def initialize(context):\n",
    "    \"\"\"\n",
    "    Called once at the start of the algorithm.\n",
    "    \"\"\"\n",
    "    # Rebalance every day, 1 hour after market open.\n",
    "    \n",
    "    context.goog = sid(26578)\n",
    "    \n",
    "    algo.schedule_function(\n",
    "        rebalance,\n",
    "        algo.date_rules.every_day(),\n",
    "        algo.time_rules.market_open(hours=1),\n",
    "    )\n",
    "\n",
    "    # Record tracking variables at the end of each day.\n",
    "    algo.schedule_function(\n",
    "        record_vars,\n",
    "        algo.date_rules.every_day(),\n",
    "        algo.time_rules.market_close(),\n",
    "    )\n",
    "\n",
    "    # Create our dynamic stock selector.\n",
    "    algo.attach_pipeline(make_pipeline(), 'pipeline')\n",
    "    \n",
    "\n",
    "\n",
    "class diff_2day(CustomFactor):\n",
    "    \n",
    "    def compute(self, today, assets, out, values):\n",
    "        \n",
    "        out[:] = np.diff(values, axis = 0)\n",
    "        \n",
    "def make_pipeline():\n",
    "    \n",
    "    universe = StaticSids([26578])\n",
    "    \n",
    "    close = USEquityPricing.close.latest\n",
    "    \n",
    "    diff = diff_2day(\n",
    "        inputs = [USEquityPricing.close], \n",
    "                     window_length = 2,\n",
    "        mask = universe\n",
    "    )\n",
    "    \n",
    "    return Pipeline(\n",
    "    \n",
    "        columns = {\n",
    "            \n",
    "            'close':close,\n",
    "            'diff':diff\n",
    "        },screen = universe\n",
    "    )\n",
    "\n",
    "\n",
    "def before_trading_start(context, data):\n",
    "    \"\"\"\n",
    "    Called every day before market open.\n",
    "    \"\"\"\n",
    "    context.output = algo.pipeline_output('pipeline')\n",
    "\n",
    "    # These are the securities that we are interested in trading each day.\n",
    "    context.diff = context.output['diff'].values\n",
    "    context.stocks = context.output.index.tolist()\n",
    " \n",
    "def rebalance(context, data):\n",
    "    \"\"\"\n",
    "    Execute orders according to our schedule_function() timing.\n",
    "    \"\"\"\n",
    "    \n",
    "    if context.diff > 0.0:\n",
    "        stock_weight = 1.0\n",
    "    else:\n",
    "        stock_weight = 0\n",
    "        \n",
    "    order_target_percent(context.goog,stock_weight)        \n",
    "\n",
    "\n",
    "def record_vars(context, data):\n",
    "    \"\"\"\n",
    "    Plot variables at the end of each day.\n",
    "    \"\"\"\n",
    "    #value = context.portfolio.positions_value\n",
    "    m = len(context.stocks)\n",
    "    record(n_stocks = m)\n",
    "    \n",
    "    "
   ]
  },
  {
   "cell_type": "markdown",
   "metadata": {},
   "source": [
    "### Getting our Backtest Result"
   ]
  },
  {
   "cell_type": "code",
   "execution_count": 1,
   "metadata": {},
   "outputs": [
    {
     "name": "stderr",
     "output_type": "stream",
     "text": [
      "100% Time:  0:00:01|##########################################################|\n"
     ]
    }
   ],
   "source": [
    "bt = get_backtest('5e44732efcaa62484f70a6fc')"
   ]
  },
  {
   "cell_type": "code",
   "execution_count": 7,
   "metadata": {},
   "outputs": [
    {
     "data": {
      "text/plain": [
       "<matplotlib.text.Text at 0x7efc9558f908>"
      ]
     },
     "execution_count": 7,
     "metadata": {},
     "output_type": "execute_result"
    },
    {
     "data": {
      "image/png": "[encoded data removed]",
      "text/plain": [
       "<matplotlib.figure.Figure at 0x7efc95909cf8>"
      ]
     },
     "metadata": {},
     "output_type": "display_data"
    }
   ],
   "source": [
    "import matplotlib.pyplot as plt\n",
    "bt.cumulative_performance['ending_portfolio_value'].plot()\n",
    "plt.ylabel('Portfolio Value ($1mm)')"
   ]
  },
  {
   "cell_type": "code",
   "execution_count": null,
   "metadata": {},
   "outputs": [],
   "source": []
  }
 ],
 "metadata": {
  "kernelspec": {
   "display_name": "Python 3.5",
   "language": "python",
   "name": "py35"
  },
  "language_info": {
   "codemirror_mode": {
    "name": "ipython",
    "version": 3
   },
   "file_extension": ".py",
   "mimetype": "text/x-python",
   "name": "python",
   "nbconvert_exporter": "python",
   "pygments_lexer": "ipython3",
   "version": "3.5.9"
  }
 },
 "nbformat": 4,
 "nbformat_minor": 2
}
